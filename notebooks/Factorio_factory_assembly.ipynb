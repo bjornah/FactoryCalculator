{
 "cells": [
  {
   "cell_type": "code",
   "execution_count": 1,
   "metadata": {
    "ExecuteTime": {
     "end_time": "2020-01-04T06:49:12.209667Z",
     "start_time": "2020-01-04T06:49:11.676771Z"
    }
   },
   "outputs": [],
   "source": [
    "import numpy as np\n",
    "import importlib\n",
    "# import os"
   ]
  },
  {
   "cell_type": "code",
   "execution_count": 8,
   "metadata": {
    "ExecuteTime": {
     "end_time": "2020-01-04T06:50:47.205422Z",
     "start_time": "2020-01-04T06:50:47.200131Z"
    }
   },
   "outputs": [
    {
     "name": "stdout",
     "output_type": "stream",
     "text": [
      "The autoreload extension is already loaded. To reload it, use:\n",
      "  %reload_ext autoreload\n"
     ]
    }
   ],
   "source": [
    "%load_ext autoreload\n",
    "%autoreload 2"
   ]
  },
  {
   "cell_type": "code",
   "execution_count": 310,
   "metadata": {
    "ExecuteTime": {
     "end_time": "2020-01-04T21:34:42.774949Z",
     "start_time": "2020-01-04T21:34:42.267586Z"
    }
   },
   "outputs": [],
   "source": [
    "from FactoryCalculator.Entities import Belt,Miner,Module,Inserter,Factory,Chest,Recipe"
   ]
  },
  {
   "cell_type": "code",
   "execution_count": 357,
   "metadata": {
    "ExecuteTime": {
     "end_time": "2020-01-04T21:51:22.030212Z",
     "start_time": "2020-01-04T21:51:20.353631Z"
    }
   },
   "outputs": [
    {
     "name": "stdout",
     "output_type": "stream",
     "text": [
      "-----\n",
      "copper requires 1.0 input but only 0.9359999999999999 is available. Scaling production by factor 0.9359999999999999\n",
      "-----\n"
     ]
    }
   ],
   "source": [
    "sMod1 = Module('speed',1)\n",
    "sMod2 = Module('speed',2)\n",
    "sMod3 = Module('speed',3)\n",
    "miner = Miner('electric',material='copper',lvl=3)\n",
    "miner.add_modules([sMod1,sMod2])\n",
    "miner.mining_base_speed\n",
    "miner.mining_speed\n",
    "\n",
    "miner_ouput = miner.get_output()\n",
    "\n",
    "b = Belt('yellow')\n",
    "# print(b.get_content())\n",
    "b.load(miner_ouput)\n",
    "# print(b.get_content())\n",
    "\n",
    "I = Inserter('regular',lvl=1)\n",
    "I.link_source(b,'copper')\n",
    "I.get_output_max('copper',output_type='Factory')\n",
    "\n",
    "chest = Chest()\n",
    "\n",
    "recipe = Recipe()\n",
    "recipe.create_recipe(name = 'copper cables',materials_in = {'copper':1},wait = 0.5,materials_out = {'copperCable':2})\n",
    "\n",
    "f = Factory(recipe=recipe,prod_speed=0.5)\n",
    "f.set_factory_io([I],[chest])\n",
    "f.produce()\n",
    "# print(b.get_content())"
   ]
  },
  {
   "cell_type": "code",
   "execution_count": 359,
   "metadata": {
    "ExecuteTime": {
     "end_time": "2020-01-04T21:51:35.643166Z",
     "start_time": "2020-01-04T21:51:33.737089Z"
    }
   },
   "outputs": [
    {
     "name": "stdout",
     "output_type": "stream",
     "text": [
      "{'iron': 1.2, 'copper': 13.8}\n",
      "-----\n",
      "copper cable requires 3.0 input but only 2.4 is available. Scaling production by factor 0.7999999999999999\n",
      "-----\n",
      "copper cable not on the belt\n",
      "iron not in factory copper cables\n"
     ]
    }
   ],
   "source": [
    "#### setup some small miners\n",
    "\n",
    "miner_iron_1 = Miner('electric',material='iron',lvl=3)\n",
    "miner_iron_2 = Miner('electric',material='iron',lvl=3)\n",
    "\n",
    "miners_iron1 = [miner_iron_1,miner_iron_2]\n",
    "miner_iron_list_1 = MinerList(miners_iron1)\n",
    "iron_ouput1 = miner_iron_list_1.get_output()\n",
    "\n",
    "\n",
    "#### setup an array of 30 copper miners\n",
    "\n",
    "im = 30\n",
    "miners_copper1 = [Miner('electric',material='copper',lvl=3) for i in range(im)]\n",
    "miner_copper_list_1 = MinerList(miners_copper1)\n",
    "copper_ouput1 = miner_copper_list_1.get_output()\n",
    "\n",
    "#### pipe output of iron and then copper onto yellow belt. Not all copper fits\n",
    "\n",
    "b2 = Belt('yellow')\n",
    "\n",
    "b2.load(iron_ouput1)\n",
    "\n",
    "b2.load(copper_ouput1)\n",
    "\n",
    "print(b2.get_content())\n",
    "\n",
    "#### use two inserters, one for iron and one for copper, to transfer material.\n",
    "# Iron -> green chip\n",
    "# \n",
    "# copper -> copper cables -> green chip \n",
    "# \n",
    "# green chip -> yellow belt\n",
    "\n",
    "# create everything backwards, starting with the end product and where it ends up\n",
    "b3 = Belt('yellow')\n",
    "\n",
    "recipe_gc = Recipe()\n",
    "recipe_gc.create_recipe(name = 'green chip',materials_in = {'copper cable':3,'iron':1},wait = 0.5,materials_out = {'green chip':1})\n",
    "\n",
    "recipe_cc = Recipe()\n",
    "recipe_cc.create_recipe(name = 'copper cables',materials_in = {'copper':1},wait = 0.5,materials_out = {'copper cable':2})\n",
    "\n",
    "I1 = Inserter('regular',lvl=1)\n",
    "I2 = Inserter('regular',lvl=1)\n",
    "I3 = Inserter('regular',lvl=1)\n",
    "\n",
    "f1 = Factory(recipe=recipe_gc,prod_speed=0.5)\n",
    "f2 = Factory(recipe=recipe_cc,prod_speed=0.5)\n",
    "\n",
    "I1.link_source(b2,'iron')\n",
    "I1.get_output_max('iron',output_type='Factory')\n",
    "\n",
    "I3.link_source(b2,'copper')\n",
    "I3.get_output_max('copper',output_type='Factory')\n",
    "\n",
    "f2.set_factory_io([I3],[chest])\n",
    "\n",
    "I2.link_source(f2,'copper cable')\n",
    "I1.get_output_max('copper cable',output_type='Factory')\n",
    "\n",
    "f1.set_factory_io([I1,I2],[b3])\n",
    "\n",
    "f2.produce()\n",
    "f1.produce()\n"
   ]
  },
  {
   "cell_type": "code",
   "execution_count": null,
   "metadata": {},
   "outputs": [],
   "source": []
  },
  {
   "cell_type": "code",
   "execution_count": 364,
   "metadata": {
    "ExecuteTime": {
     "end_time": "2020-01-04T21:53:44.691147Z",
     "start_time": "2020-01-04T21:53:44.670225Z"
    }
   },
   "outputs": [
    {
     "data": {
      "text/plain": [
       "{'copper cable': 2.0}"
      ]
     },
     "execution_count": 364,
     "metadata": {},
     "output_type": "execute_result"
    }
   ],
   "source": [
    "{m:items/f2.wait for m,items in f2.materials_out_max.items()}"
   ]
  },
  {
   "cell_type": "code",
   "execution_count": 365,
   "metadata": {
    "ExecuteTime": {
     "end_time": "2020-01-04T21:53:49.732503Z",
     "start_time": "2020-01-04T21:53:49.709634Z"
    }
   },
   "outputs": [
    {
     "data": {
      "text/plain": [
       "1.0"
      ]
     },
     "execution_count": 365,
     "metadata": {},
     "output_type": "execute_result"
    }
   ],
   "source": [
    "f2.wait"
   ]
  },
  {
   "cell_type": "code",
   "execution_count": null,
   "metadata": {},
   "outputs": [],
   "source": []
  },
  {
   "cell_type": "code",
   "execution_count": null,
   "metadata": {},
   "outputs": [],
   "source": []
  },
  {
   "cell_type": "code",
   "execution_count": 360,
   "metadata": {
    "ExecuteTime": {
     "end_time": "2020-01-04T21:51:48.757677Z",
     "start_time": "2020-01-04T21:51:48.737463Z"
    }
   },
   "outputs": [
    {
     "data": {
      "text/plain": [
       "{'copper cable': 0.8}"
      ]
     },
     "execution_count": 360,
     "metadata": {},
     "output_type": "execute_result"
    }
   ],
   "source": [
    "f2.output"
   ]
  },
  {
   "cell_type": "code",
   "execution_count": 361,
   "metadata": {
    "ExecuteTime": {
     "end_time": "2020-01-04T21:51:52.837552Z",
     "start_time": "2020-01-04T21:51:52.816801Z"
    }
   },
   "outputs": [
    {
     "data": {
      "text/plain": [
       "{'green chip': 0.7999999999999999}"
      ]
     },
     "execution_count": 361,
     "metadata": {},
     "output_type": "execute_result"
    }
   ],
   "source": [
    "f1.output"
   ]
  },
  {
   "cell_type": "code",
   "execution_count": null,
   "metadata": {},
   "outputs": [],
   "source": []
  },
  {
   "cell_type": "code",
   "execution_count": null,
   "metadata": {},
   "outputs": [],
   "source": []
  },
  {
   "cell_type": "code",
   "execution_count": null,
   "metadata": {},
   "outputs": [],
   "source": []
  },
  {
   "cell_type": "code",
   "execution_count": null,
   "metadata": {},
   "outputs": [],
   "source": []
  },
  {
   "cell_type": "code",
   "execution_count": 210,
   "metadata": {
    "ExecuteTime": {
     "end_time": "2020-01-04T18:01:07.748084Z",
     "start_time": "2020-01-04T18:01:07.725155Z"
    }
   },
   "outputs": [],
   "source": [
    "import functools\n",
    "\n",
    "def add_dicts(dicts):\n",
    "\n",
    "    allkeys = functools.reduce(set.union, map(set, map(dict.keys, dicts)))\n",
    "    c = {}\n",
    "    for key in allkeys:\n",
    "        items = 0\n",
    "        for d in dicts:\n",
    "            items += d[key] if key in d else 0\n",
    "            c[key]=items\n",
    "    return c\n",
    "\n",
    "class MinerList:\n",
    "    \n",
    "    def __init__(self,minerList):\n",
    "        self.objectType = self.__class__.__name__\n",
    "        self.minerList = minerList\n",
    "        \n",
    "    def get_output(self):\n",
    "        output = add_dicts([m.get_output() for m in self.minerList])\n",
    "        return output"
   ]
  },
  {
   "cell_type": "code",
   "execution_count": null,
   "metadata": {},
   "outputs": [],
   "source": []
  },
  {
   "cell_type": "code",
   "execution_count": null,
   "metadata": {},
   "outputs": [],
   "source": []
  },
  {
   "cell_type": "code",
   "execution_count": null,
   "metadata": {},
   "outputs": [],
   "source": []
  },
  {
   "cell_type": "markdown",
   "metadata": {},
   "source": [
    "#### Other stuff to implement"
   ]
  },
  {
   "cell_type": "markdown",
   "metadata": {},
   "source": [
    "Modules (these can be tagged in the relevant classes)\n",
    "\n",
    "Energy consumption\n",
    "\n",
    "Pollution\n",
    "\n",
    "Power plants"
   ]
  },
  {
   "cell_type": "code",
   "execution_count": null,
   "metadata": {},
   "outputs": [],
   "source": []
  }
 ],
 "metadata": {
  "kernelspec": {
   "display_name": "Python3Conda",
   "language": "python",
   "name": "myenv"
  },
  "language_info": {
   "codemirror_mode": {
    "name": "ipython",
    "version": 3
   },
   "file_extension": ".py",
   "mimetype": "text/x-python",
   "name": "python",
   "nbconvert_exporter": "python",
   "pygments_lexer": "ipython3",
   "version": "3.6.7"
  },
  "toc": {
   "base_numbering": 1,
   "nav_menu": {},
   "number_sections": true,
   "sideBar": true,
   "skip_h1_title": false,
   "title_cell": "Table of Contents",
   "title_sidebar": "Contents",
   "toc_cell": false,
   "toc_position": {},
   "toc_section_display": true,
   "toc_window_display": false
  }
 },
 "nbformat": 4,
 "nbformat_minor": 2
}
