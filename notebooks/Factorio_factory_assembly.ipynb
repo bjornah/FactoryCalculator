{
 "cells": [
  {
   "cell_type": "code",
   "execution_count": 1,
   "metadata": {
    "ExecuteTime": {
     "end_time": "2020-01-04T06:49:12.209667Z",
     "start_time": "2020-01-04T06:49:11.676771Z"
    }
   },
   "outputs": [],
   "source": [
    "import numpy as np\n",
    "import importlib\n",
    "# import os"
   ]
  },
  {
   "cell_type": "code",
   "execution_count": 8,
   "metadata": {
    "ExecuteTime": {
     "end_time": "2020-01-04T06:50:47.205422Z",
     "start_time": "2020-01-04T06:50:47.200131Z"
    }
   },
   "outputs": [
    {
     "name": "stdout",
     "output_type": "stream",
     "text": [
      "The autoreload extension is already loaded. To reload it, use:\n",
      "  %reload_ext autoreload\n"
     ]
    }
   ],
   "source": [
    "%load_ext autoreload\n",
    "%autoreload 2"
   ]
  },
  {
   "cell_type": "code",
   "execution_count": 57,
   "metadata": {
    "ExecuteTime": {
     "end_time": "2020-01-04T08:09:40.028657Z",
     "start_time": "2020-01-04T08:09:40.009380Z"
    }
   },
   "outputs": [],
   "source": [
    "from FactoryCalculator.Entities import Belt,Miner,Module,Inserter,Factory,Chest"
   ]
  },
  {
   "cell_type": "code",
   "execution_count": 135,
   "metadata": {
    "ExecuteTime": {
     "end_time": "2020-01-04T08:34:34.775555Z",
     "start_time": "2020-01-04T08:34:34.367022Z"
    }
   },
   "outputs": [
    {
     "name": "stdout",
     "output_type": "stream",
     "text": [
      "{}\n",
      "{'copper': 0.9359999999999999}\n",
      "-----\n",
      "copper requires 2.0 input but only 0.9359999999999999 is available. Scaling production by factor 0.46799999999999997\n",
      "-----\n",
      "Factory report for factory reg_fact, producing ['copperCable']\n",
      "I/O scaled by factor of 0.46799999999999997\n",
      "-----\n",
      "{}\n"
     ]
    }
   ],
   "source": [
    "sMod1 = Module('speed',1)\n",
    "sMod2 = Module('speed',2)\n",
    "sMod3 = Module('speed',3)\n",
    "miner = Miner('electric',material='copper',lvl=3)\n",
    "miner.add_modules([sMod1,sMod2])\n",
    "miner.mining_base_speed\n",
    "miner.mining_speed\n",
    "\n",
    "miner_ouput = miner.get_output()\n",
    "\n",
    "b = Belt('yellow')\n",
    "print(b.get_content())\n",
    "b.load(miner_ouput)\n",
    "print(b.get_content())\n",
    "\n",
    "I = Inserter('regular',lvl=1)\n",
    "I.link_source(b,'copper')\n",
    "I.get_output_max('copper',output_type='factory')\n",
    "\n",
    "chest = Chest()\n",
    "\n",
    "f = Factory('reg_fact',{'copper':1},0.5,{'copperCable':2})\n",
    "\n",
    "f.set_factory_io([I],[chest])\n",
    "f.produce()\n",
    "print(b.get_content())"
   ]
  },
  {
   "cell_type": "code",
   "execution_count": null,
   "metadata": {},
   "outputs": [],
   "source": []
  },
  {
   "cell_type": "markdown",
   "metadata": {},
   "source": [
    "#### Other stuff to implement"
   ]
  },
  {
   "cell_type": "markdown",
   "metadata": {},
   "source": [
    "Modules (these can be tagged in the relevant classes)\n",
    "\n",
    "Energy consumption\n",
    "\n",
    "Pollution\n",
    "\n",
    "Power plants"
   ]
  },
  {
   "cell_type": "code",
   "execution_count": null,
   "metadata": {},
   "outputs": [],
   "source": []
  }
 ],
 "metadata": {
  "kernelspec": {
   "display_name": "Python3Conda",
   "language": "python",
   "name": "myenv"
  },
  "language_info": {
   "codemirror_mode": {
    "name": "ipython",
    "version": 3
   },
   "file_extension": ".py",
   "mimetype": "text/x-python",
   "name": "python",
   "nbconvert_exporter": "python",
   "pygments_lexer": "ipython3",
   "version": "3.6.7"
  },
  "toc": {
   "base_numbering": 1,
   "nav_menu": {},
   "number_sections": true,
   "sideBar": true,
   "skip_h1_title": false,
   "title_cell": "Table of Contents",
   "title_sidebar": "Contents",
   "toc_cell": false,
   "toc_position": {},
   "toc_section_display": true,
   "toc_window_display": false
  }
 },
 "nbformat": 4,
 "nbformat_minor": 2
}
