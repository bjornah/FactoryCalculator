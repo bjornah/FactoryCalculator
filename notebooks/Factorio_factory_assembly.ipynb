{
 "cells": [
  {
   "cell_type": "code",
   "execution_count": 1,
   "metadata": {
    "ExecuteTime": {
     "end_time": "2020-03-23T14:10:20.231283Z",
     "start_time": "2020-03-23T14:10:19.374195Z"
    }
   },
   "outputs": [],
   "source": [
    "import numpy as np\n",
    "import importlib\n",
    "# import os"
   ]
  },
  {
   "cell_type": "code",
   "execution_count": 2,
   "metadata": {
    "ExecuteTime": {
     "end_time": "2020-03-23T14:10:20.759374Z",
     "start_time": "2020-03-23T14:10:20.732030Z"
    }
   },
   "outputs": [],
   "source": [
    "%load_ext autoreload\n",
    "%autoreload 2"
   ]
  },
  {
   "cell_type": "code",
   "execution_count": null,
   "metadata": {},
   "outputs": [],
   "source": []
  },
  {
   "cell_type": "code",
   "execution_count": 12,
   "metadata": {
    "ExecuteTime": {
     "end_time": "2020-03-23T14:13:00.833992Z",
     "start_time": "2020-03-23T14:13:00.809485Z"
    }
   },
   "outputs": [],
   "source": [
    "from FactoryCalculator.Entities import Belt,Miner,Module,Inserter,Factory,Chest,Recipe #,Smelter\n",
    "from FactoryCalculator.Utils import overview,add_dicts,convertRecipe\n",
    "from FactoryCalculator.MetaEntities import MinerList\n",
    "from FactoryCalculator import Data"
   ]
  },
  {
   "cell_type": "code",
   "execution_count": 5,
   "metadata": {
    "ExecuteTime": {
     "end_time": "2020-03-23T14:10:48.035898Z",
     "start_time": "2020-03-23T14:10:48.009293Z"
    }
   },
   "outputs": [
    {
     "name": "stdout",
     "output_type": "stream",
     "text": [
      "{}\n",
      "{'copper': 0.78}\n",
      "belt now contains {'copper': 0.78, 'iron': 0.5} in terms of items per s\n"
     ]
    }
   ],
   "source": [
    "sMod1 = Module('speed',1)\n",
    "sMod2 = Module('speed',2)\n",
    "sMod3 = Module('speed',3)\n",
    "miner1 = Miner('electric',material='copper',lvl=1)\n",
    "miner1.add_modules([sMod1,sMod2])\n",
    "\n",
    "miner2 = Miner('electric',material='iron',lvl=1)\n",
    "\n",
    "b = Belt('yellow')\n",
    "print(b.get_content())\n",
    "b.load(miner1.get_output())\n",
    "print(b.get_content())\n",
    "b.load(miner2.get_output())\n",
    "print('belt now contains {} in terms of items per s'.format(b.get_content()))"
   ]
  },
  {
   "cell_type": "code",
   "execution_count": 6,
   "metadata": {
    "ExecuteTime": {
     "end_time": "2020-03-23T14:10:50.062405Z",
     "start_time": "2020-03-23T14:10:50.033130Z"
    }
   },
   "outputs": [
    {
     "data": {
      "text/plain": [
       "0.78"
      ]
     },
     "execution_count": 6,
     "metadata": {},
     "output_type": "execute_result"
    }
   ],
   "source": [
    "I = Inserter('regular',lvl=1)\n",
    "I.link_source(sourceObj=b)\n",
    "I.get_output_max('copper',output_type='Factory')\n"
   ]
  },
  {
   "cell_type": "code",
   "execution_count": 8,
   "metadata": {
    "ExecuteTime": {
     "end_time": "2020-03-23T14:11:38.392981Z",
     "start_time": "2020-03-23T14:11:38.361537Z"
    }
   },
   "outputs": [
    {
     "name": "stdout",
     "output_type": "stream",
     "text": [
      "No fuel present!\n",
      "-----\n",
      "copper requires 1.0 input but only 0.78 is available. Scaling production by factor 0.78\n",
      "-----\n"
     ]
    }
   ],
   "source": [
    "\n",
    "chest = Chest()\n",
    "\n",
    "recipe = Recipe()\n",
    "recipe.create_recipe(name = 'copper cables', materials_in = {'copper':1}, wait = 0.5, materials_out = {'copperCable':2})\n",
    "\n",
    "f = Factory(recipe=recipe,prod_speed=0.5,FactoryType='factory_1')\n",
    "f.set_factory_io([I],[chest])\n",
    "f.produce()"
   ]
  },
  {
   "cell_type": "code",
   "execution_count": 9,
   "metadata": {
    "ExecuteTime": {
     "end_time": "2020-03-23T14:11:43.845931Z",
     "start_time": "2020-03-23T14:11:43.820710Z"
    }
   },
   "outputs": [
    {
     "name": "stdout",
     "output_type": "stream",
     "text": [
      "belt now contains {'iron': 0.5} in terms of items per s\n"
     ]
    }
   ],
   "source": [
    "print('belt now contains {} in terms of items per s'.format(b.get_content()))"
   ]
  },
  {
   "cell_type": "markdown",
   "metadata": {},
   "source": [
    "### want a summary function.\n",
    "\n",
    "- call function to get overview of:\n",
    "    - all miners and their respective outputs\n",
    "    - all belts and their contents\n",
    "    - the input and output of all factories\n",
    "\n",
    "what is reasonable:\n",
    "- feed all objects about which you want information to the overview function\n",
    "\n",
    "What needs to be implemented, but requires massive changes to structure of how loading/unloading is logged:\n",
    "- what is loaded onto what, etc."
   ]
  },
  {
   "cell_type": "code",
   "execution_count": 10,
   "metadata": {
    "ExecuteTime": {
     "end_time": "2020-03-23T14:11:47.524719Z",
     "start_time": "2020-03-23T14:11:47.499379Z"
    }
   },
   "outputs": [
    {
     "name": "stdout",
     "output_type": "stream",
     "text": [
      "This is a first, coarse overview of the given objects:\n",
      "\n",
      "Miners:\n",
      "-electric miner  outputing {'copper': 0.78}\n",
      "-electric miner  outputing {'iron': 0.5}\n",
      "------\n",
      "\n",
      "Belts:\n",
      "-Belt #1 (yellow, ):\n",
      "{'copper': '0.78/0.78'} is loaded onto the belt\n",
      "{'iron': '0.5/0.5'} is loaded onto the belt\n",
      "{'copper': 0.78} is offloaded\n",
      "final state of belt is that it contains {'iron': 0.5} in terms of items per s\n",
      "------\n",
      "\n",
      "Factories:\n",
      "-Factory  using {'copper': 0.78} and outputing {'copperCable': 1.56}, operating at 78% speed\n",
      "------\n",
      "\n"
     ]
    }
   ],
   "source": [
    "overview([b,miner1,miner2,f])"
   ]
  },
  {
   "cell_type": "code",
   "execution_count": 13,
   "metadata": {
    "ExecuteTime": {
     "end_time": "2020-03-23T14:13:04.837583Z",
     "start_time": "2020-03-23T14:13:04.802480Z"
    }
   },
   "outputs": [
    {
     "name": "stdout",
     "output_type": "stream",
     "text": [
      "{'iron': 1.0, 'copper': 14.0}\n",
      "No fuel present!\n",
      "No fuel present!\n",
      "copper cable does not exist in the source for this inserter\n",
      "-----\n",
      "copper cable requires 3.0 input but only 1.2 is available. Scaling production by factor 0.39999999999999997\n",
      "-----\n",
      "iron does not exist in the source for this inserter\n",
      "copper cable does not exist in the source for this inserter\n",
      "copper cable does not exist in the source for this inserter\n",
      "copper cable does not exist in the source for this inserter\n",
      "copper cable not on the belt\n",
      "iron does not exist in the source for this inserter\n",
      "iron does not exist in the source for this inserter\n",
      "iron does not exist in the source for this inserter\n",
      "iron not in factory copper cables\n",
      "Rescaling production to a speed of 0.6\n"
     ]
    }
   ],
   "source": [
    "#### setup some small miners\n",
    "\n",
    "miner_iron_1 = Miner('electric',material='iron',lvl=1)\n",
    "miner_iron_2 = Miner('electric',material='iron',lvl=1)\n",
    "\n",
    "miners_iron1 = [miner_iron_1,miner_iron_2]\n",
    "miner_iron_list_1 = MinerList(miners_iron1)\n",
    "iron_ouput1 = miner_iron_list_1.get_output()\n",
    "\n",
    "\n",
    "#### setup an array of 30 copper miners\n",
    "\n",
    "im = 30\n",
    "miners_copper1 = [Miner('electric',material='copper',lvl=1) for i in range(im)]\n",
    "miner_copper_list_1 = MinerList(miners_copper1)\n",
    "copper_ouput1 = miner_copper_list_1.get_output()\n",
    "\n",
    "#### pipe output of iron and then copper onto yellow belt. Not all copper fits\n",
    "\n",
    "b2 = Belt('yellow',objID='b2')\n",
    "\n",
    "b2.load(iron_ouput1)\n",
    "\n",
    "b2.load(copper_ouput1)\n",
    "\n",
    "print(b2.get_content())\n",
    "\n",
    "#### use two inserters, one for iron and one for copper, to transfer material.\n",
    "# Iron -> green chip\n",
    "# \n",
    "# copper -> copper cables -> green chip \n",
    "# \n",
    "# green chip -> yellow belt\n",
    "\n",
    "# create everything backwards, starting with the end product and where it ends up\n",
    "b3 = Belt('yellow',objID='b3')\n",
    "\n",
    "recipe_gc = Recipe()\n",
    "recipe_gc.create_recipe(name = 'green chip',materials_in = {'copper cable':3,'iron':1},wait = 0.5,materials_out = {'green chip':1})\n",
    "\n",
    "recipe_cc = Recipe()\n",
    "recipe_cc.create_recipe(name = 'copper cables',materials_in = {'copper':1},wait = 0.5,materials_out = {'copper cable':2})\n",
    "\n",
    "I1 = Inserter('regular',lvl=1)\n",
    "I2 = Inserter('regular',lvl=1)\n",
    "I3 = Inserter('regular',lvl=1)\n",
    "I4 = Inserter('regular',lvl=1)\n",
    "\n",
    "f_greenChip = Factory(recipe=recipe_gc,prod_speed=0.5,FactoryType='factory1',objID='f_greenChip')\n",
    "f_copperCable = Factory(recipe=recipe_cc,prod_speed=0.5,FactoryType='factory1',objID='f_copperCable')\n",
    "\n",
    "I1.link_source(b2)\n",
    "# I1.get_output_max('iron',output_type='Factory')\n",
    "\n",
    "I3.link_source(b2)\n",
    "# I3.get_output_max('copper',output_type='Factory')\n",
    "\n",
    "f_copperCable.set_factory_io([I3],I2)\n",
    "\n",
    "I2.link_source(f_copperCable)\n",
    "# I2.get_output_max('copper cable',output_type='Factory')\n",
    "\n",
    "f_greenChip.set_factory_io([I1,I2],I4)\n",
    "\n",
    "f_copperCable.produce()\n",
    "# print(f2.get_output())\n",
    "# print(I2.get_output_max('copper cable'))\n",
    "f_greenChip.produce()\n",
    "f_copperCable.adjust_ProdScale_output()\n",
    "I4.link_source(f_greenChip)\n",
    "I4.take_materials(f_greenChip.output_total)\n",
    "\n",
    "f_greenChip.adjust_ProdScale_output()\n",
    "#"
   ]
  },
  {
   "cell_type": "code",
   "execution_count": 14,
   "metadata": {
    "ExecuteTime": {
     "end_time": "2020-03-23T14:13:05.876408Z",
     "start_time": "2020-03-23T14:13:05.850046Z"
    }
   },
   "outputs": [
    {
     "name": "stdout",
     "output_type": "stream",
     "text": [
      "This is a first, coarse overview of the given objects:\n",
      "\n",
      "Miners:\n",
      "------\n",
      "\n",
      "Belts:\n",
      "-Belt #1 (yellow, b2):\n",
      "{'iron': '1.0/1.0'} is loaded onto the belt\n",
      "{'copper': '14.0/15.0'} is loaded onto the belt\n",
      "{'copper': 1.2} is offloaded\n",
      "{'iron': 1.0} is offloaded\n",
      "final state of belt is that it contains {'copper': 12.8} in terms of items per s\n",
      "-Belt #2 (yellow, b3):\n",
      "final state of belt is that it contains {} in terms of items per s\n",
      "------\n",
      "\n",
      "Factories:\n",
      "-Factory f_copperCable using {'copper': 0.6} and outputing {'copper cable': 2.0}, operating at 60% speed\n",
      "-Factory f_greenChip using {'copper cable': 1.2, 'iron': 0.39999999999999997} and outputing {'green chip': 0.39999999999999997}, operating at 40% speed\n",
      "------\n",
      "\n"
     ]
    }
   ],
   "source": [
    "overview([b2,b3,f_copperCable,f_greenChip])"
   ]
  },
  {
   "cell_type": "markdown",
   "metadata": {},
   "source": [
    "## TO DO:\n",
    "\n",
    "- Put stuff back on belt once factory speed is adjusted!\n",
    "\n",
    "- Automate adjusting speed for all connected factories upstream when producing in factory.\n",
    "\n",
    "- merge Smelter and Factory class. Essentially, move all fuel based functions and attributes to the factory class. Also move all power attributes. Add note about no fuel implying electricity. Electricity and productionScaling scales together."
   ]
  },
  {
   "cell_type": "code",
   "execution_count": null,
   "metadata": {},
   "outputs": [],
   "source": []
  },
  {
   "cell_type": "code",
   "execution_count": 395,
   "metadata": {},
   "outputs": [
    {
     "data": {
      "text/plain": [
       "0.6"
      ]
     },
     "execution_count": 395,
     "metadata": {},
     "output_type": "execute_result"
    }
   ],
   "source": [
    "1.2/2."
   ]
  },
  {
   "cell_type": "code",
   "execution_count": 396,
   "metadata": {},
   "outputs": [
    {
     "data": {
      "text/plain": [
       "{'copper cable': 0.8}"
      ]
     },
     "execution_count": 396,
     "metadata": {},
     "output_type": "execute_result"
    }
   ],
   "source": [
    "f_copperCable.store"
   ]
  },
  {
   "cell_type": "code",
   "execution_count": null,
   "metadata": {},
   "outputs": [],
   "source": []
  }
 ],
 "metadata": {
  "kernelspec": {
   "display_name": "Python 3",
   "language": "python",
   "name": "python3"
  },
  "language_info": {
   "codemirror_mode": {
    "name": "ipython",
    "version": 3
   },
   "file_extension": ".py",
   "mimetype": "text/x-python",
   "name": "python",
   "nbconvert_exporter": "python",
   "pygments_lexer": "ipython3",
   "version": "3.6.7"
  },
  "toc": {
   "base_numbering": 1,
   "nav_menu": {},
   "number_sections": true,
   "sideBar": true,
   "skip_h1_title": false,
   "title_cell": "Table of Contents",
   "title_sidebar": "Contents",
   "toc_cell": false,
   "toc_position": {},
   "toc_section_display": true,
   "toc_window_display": false
  }
 },
 "nbformat": 4,
 "nbformat_minor": 2
}
