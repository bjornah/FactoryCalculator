{
 "cells": [
  {
   "cell_type": "code",
   "execution_count": 23,
   "metadata": {
    "ExecuteTime": {
     "end_time": "2020-01-03T12:23:34.383503Z",
     "start_time": "2020-01-03T12:23:34.380390Z"
    }
   },
   "outputs": [],
   "source": [
    "import numpy as np\n",
    "# import os"
   ]
  },
  {
   "cell_type": "code",
   "execution_count": 19,
   "metadata": {
    "ExecuteTime": {
     "end_time": "2020-01-03T12:23:13.214949Z",
     "start_time": "2020-01-03T12:23:13.194737Z"
    }
   },
   "outputs": [
    {
     "name": "stdout",
     "output_type": "stream",
     "text": [
      "The autoreload extension is already loaded. To reload it, use:\n",
      "  %reload_ext autoreload\n"
     ]
    }
   ],
   "source": [
    "%load_ext autoreload\n",
    "%autoreload 1"
   ]
  },
  {
   "cell_type": "code",
   "execution_count": 21,
   "metadata": {
    "ExecuteTime": {
     "end_time": "2020-01-03T12:23:19.087382Z",
     "start_time": "2020-01-03T12:23:19.083986Z"
    }
   },
   "outputs": [],
   "source": [
    "from FactoryCalculator.Entities import Belt,Miner,Module,Inserter,Factory"
   ]
  },
  {
   "cell_type": "code",
   "execution_count": 22,
   "metadata": {
    "ExecuteTime": {
     "end_time": "2020-01-03T12:23:25.864688Z",
     "start_time": "2020-01-03T12:23:25.859010Z"
    }
   },
   "outputs": [],
   "source": [
    "sMod1 = Module('speed',1)\n",
    "sMod2 = Module('speed',2)\n",
    "sMod3 = Module('speed',3)\n",
    "miner = Miner('electric',material='iron',lvl=3)\n",
    "miner.add_modules([sMod1,sMod2])\n",
    "miner.mining_base_speed\n",
    "miner.mining_speed\n",
    "\n",
    "miner_ouput = miner.get_output()\n",
    "\n",
    "b = Belt('yellow')\n",
    "b.load(*miner_ouput)"
   ]
  },
  {
   "cell_type": "code",
   "execution_count": null,
   "metadata": {},
   "outputs": [],
   "source": []
  },
  {
   "cell_type": "code",
   "execution_count": null,
   "metadata": {},
   "outputs": [],
   "source": []
  },
  {
   "cell_type": "markdown",
   "metadata": {},
   "source": [
    "#### classes to make"
   ]
  },
  {
   "cell_type": "code",
   "execution_count": 253,
   "metadata": {
    "ExecuteTime": {
     "end_time": "2020-01-01T20:30:46.433156Z",
     "start_time": "2020-01-01T20:30:46.427505Z"
    }
   },
   "outputs": [],
   "source": [
    "# class pump #mainly oil, but also water\n",
    "\n",
    "# class pipe #similar to band, but only one type of fluid and maybe other issues\n",
    "\n",
    "# class inserter #moves item/s. Similar to band\n",
    "\n",
    "# class factory\n",
    "\n"
   ]
  },
  {
   "cell_type": "markdown",
   "metadata": {},
   "source": [
    "#### Other stuff to implement"
   ]
  },
  {
   "cell_type": "markdown",
   "metadata": {},
   "source": [
    "Modules (these can be tagged in the relevant classes)\n",
    "\n",
    "Energy consumption\n",
    "\n",
    "Pollution\n",
    "\n",
    "Power plants"
   ]
  },
  {
   "cell_type": "code",
   "execution_count": null,
   "metadata": {},
   "outputs": [],
   "source": []
  }
 ],
 "metadata": {
  "kernelspec": {
   "display_name": "Python3Conda",
   "language": "python",
   "name": "myenv"
  },
  "language_info": {
   "codemirror_mode": {
    "name": "ipython",
    "version": 3
   },
   "file_extension": ".py",
   "mimetype": "text/x-python",
   "name": "python",
   "nbconvert_exporter": "python",
   "pygments_lexer": "ipython3",
   "version": "3.6.7"
  },
  "toc": {
   "base_numbering": 1,
   "nav_menu": {},
   "number_sections": true,
   "sideBar": true,
   "skip_h1_title": false,
   "title_cell": "Table of Contents",
   "title_sidebar": "Contents",
   "toc_cell": false,
   "toc_position": {},
   "toc_section_display": true,
   "toc_window_display": false
  }
 },
 "nbformat": 4,
 "nbformat_minor": 2
}
