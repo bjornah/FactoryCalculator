{
 "cells": [
  {
   "cell_type": "code",
   "execution_count": 410,
   "metadata": {
    "ExecuteTime": {
     "end_time": "2020-03-24T13:15:53.315694Z",
     "start_time": "2020-03-24T13:15:53.291288Z"
    }
   },
   "outputs": [],
   "source": [
    "from IPython.core.debugger import set_trace"
   ]
  },
  {
   "cell_type": "code",
   "execution_count": 2,
   "metadata": {
    "ExecuteTime": {
     "end_time": "2020-03-23T14:17:10.653907Z",
     "start_time": "2020-03-23T14:17:10.615098Z"
    },
    "run_control": {
     "marked": false
    }
   },
   "outputs": [
    {
     "name": "stdout",
     "output_type": "stream",
     "text": [
      "The autoreload extension is already loaded. To reload it, use:\n",
      "  %reload_ext autoreload\n"
     ]
    }
   ],
   "source": [
    "import numpy as np\n",
    "import importlib\n",
    "# import os\n",
    "%load_ext autoreload\n",
    "%autoreload 2\n",
    "from FactoryCalculator.Entities2 import Belt,Miner,Module,Inserter,Factory,Chest,Recipe\n",
    "from FactoryCalculator.Utils import overview,add_dicts,convertRecipe\n",
    "from FactoryCalculator import Data\n",
    "from FactoryCalculator.MetaEntities import MinerList"
   ]
  },
  {
   "cell_type": "markdown",
   "metadata": {},
   "source": [
    "- Initiate all factories\n",
    "- let them make requests of what they need. This creates a tree of requirements of {material:item_s} for each factory, setting a goal of what each factory must produce.\n",
    "\n",
    "for each line of material: all n entities that want material from it gets 1/n of the available material. Starting with the entity that wants the least material this material is given to that entity. The remaining material is then divided to the n-1 entities, giving them 1/(n-1) each. This process continues until the material is out or all entities have all material they need.\n",
    "\n",
    "Note that this assumes that the factories are taking material in parallel instead of serially from e.g. the belt. This is ok for small arrays of factories or where the belt layout respects this assumption or where there is sufficient material at the source to satisfy all entities.\n",
    "\n",
    "For larger factories containing multiple arrays of entities drawing from the same source of materials, note that you need to set them up serially such that factory1, containing two entitites drawing from belt1, is sorted out completely and that their combined draw of resources from belt1 is accounted for before offering the remaining resources on belt1 to factory2.\n",
    "\n",
    "- Create source of material\n",
    "- Create factories and initiate them\n",
    "- Connect factories\n",
    "    - This involves putting other objects in a list. However, these objects come in tuples, together with a speed, which represents the inserter used to transport them. We thus make away with the inserter class. This speed can be retrieved from Data.InserterSpeeds.\n",
    "    "
   ]
  },
  {
   "cell_type": "code",
   "execution_count": 435,
   "metadata": {
    "ExecuteTime": {
     "end_time": "2020-03-24T13:24:11.177816Z",
     "start_time": "2020-03-24T13:24:11.143966Z"
    }
   },
   "outputs": [
    {
     "name": "stdout",
     "output_type": "stream",
     "text": [
      "{'iron': 1.0, 'copper': 14.0}\n",
      "No fuel present!\n",
      "No fuel present!\n",
      "No fuel present!\n",
      "No fuel present!\n"
     ]
    }
   ],
   "source": [
    "#### setup some small miners\n",
    "\n",
    "miner_iron_1 = Miner('electric',material='iron',lvl=1)\n",
    "miner_iron_2 = Miner('electric',material='iron',lvl=1)\n",
    "\n",
    "miners_iron1 = [miner_iron_1,miner_iron_2]\n",
    "miner_iron_list_1 = MinerList(miners_iron1)\n",
    "iron_ouput1 = miner_iron_list_1.get_output()\n",
    "\n",
    "\n",
    "#### setup an array of 30 copper miners\n",
    "\n",
    "im = 30\n",
    "miners_copper1 = [Miner('electric',material='copper',lvl=1) for i in range(im)]\n",
    "miner_copper_list_1 = MinerList(miners_copper1)\n",
    "copper_ouput1 = miner_copper_list_1.get_output()\n",
    "\n",
    "#### pipe output of iron and then copper onto yellow belt. Not all copper fits\n",
    "\n",
    "b2 = Belt('yellow',objID='b2')\n",
    "\n",
    "b2.load(iron_ouput1)\n",
    "\n",
    "b2.load(copper_ouput1)\n",
    "\n",
    "print(b2.get_content())\n",
    "\n",
    "#### use two inserters, one for iron and one for copper, to transfer material.\n",
    "# Iron -> green chip\n",
    "# \n",
    "# copper -> copper cables -> green chip \n",
    "# \n",
    "# green chip -> yellow belt\n",
    "\n",
    "# create everything backwards, starting with the end product and where it ends up\n",
    "b3 = Belt('yellow',objID='b3')\n",
    "\n",
    "recipe_gc = Recipe()\n",
    "recipe_gc.create_recipe(name = 'green chip',materials_in = {'copper cable':3,'iron':1},wait = 0.5,materials_out = {'green chip':1})\n",
    "\n",
    "recipe_cc = Recipe()\n",
    "recipe_cc.create_recipe(name = 'copper cables',materials_in = {'copper':1},wait = 0.5,materials_out = {'copper cable':2})\n",
    "\n",
    "f_greenChip = Factory(recipe=recipe_gc,prod_speed=0.5,FactoryType='factory1',objID='f_greenChip',fuel=None)\n",
    "f_copperCable = Factory(recipe=recipe_cc,prod_speed=0.5,FactoryType='factory1',objID='f_copperCable',fuel=None)\n",
    "f_copperCable2 = Factory(recipe=recipe_cc,prod_speed=0.5,FactoryType='factory1',objID='f_copperCable2',fuel=None)\n",
    "f_copperCable3 = Factory(recipe=recipe_cc,prod_speed=0.5,FactoryType='factory1',objID='f_copperCable3',fuel=None)\n",
    "\n",
    "f_greenChip.clear_IO()\n",
    "f_copperCable.clear_IO()"
   ]
  },
  {
   "cell_type": "code",
   "execution_count": 436,
   "metadata": {
    "ExecuteTime": {
     "end_time": "2020-03-24T13:24:18.446635Z",
     "start_time": "2020-03-24T13:24:18.423491Z"
    }
   },
   "outputs": [],
   "source": [
    "inserter = 'regular'\n",
    "inserterLvl = 1\n",
    "inserterMode='item_s_chest_to_chest'\n",
    "Inserter_speed = Data.Inserters[inserter][inserterLvl][inserterMode] # gives item_s"
   ]
  },
  {
   "cell_type": "code",
   "execution_count": 437,
   "metadata": {
    "ExecuteTime": {
     "end_time": "2020-03-24T13:24:34.177648Z",
     "start_time": "2020-03-24T13:24:34.150460Z"
    }
   },
   "outputs": [],
   "source": [
    "f_greenChip.addInput(f_copperCable,Inserter_speed)\n",
    "f_greenChip.addInput(f_copperCable2,Inserter_speed)\n",
    "f_greenChip.addInput(f_copperCable3,Inserter_speed)\n",
    "f_greenChip.addInput(b2,Inserter_speed)\n",
    "f_greenChip.addOutput(b3,Inserter_speed)\n",
    "\n",
    "f_copperCable.addInput(b2,Inserter_speed)\n",
    "f_copperCable.addOutput(f_greenChip,Inserter_speed)\n",
    "\n",
    "f_copperCable2.addInput(b2,Inserter_speed)\n",
    "f_copperCable2.addOutput(f_greenChip,Inserter_speed)\n",
    "\n",
    "f_copperCable3.addInput(b2,Inserter_speed)\n",
    "f_copperCable3.addOutput(f_greenChip,Inserter_speed)\n",
    "\n",
    "fList = [f_greenChip,f_copperCable,f_copperCable2,f_copperCable3]"
   ]
  },
  {
   "cell_type": "code",
   "execution_count": 427,
   "metadata": {
    "ExecuteTime": {
     "end_time": "2020-03-24T13:20:32.793037Z",
     "start_time": "2020-03-24T13:20:32.770836Z"
    }
   },
   "outputs": [],
   "source": [
    "f_greenChip.clear_IO()\n",
    "f_copperCable.clear_IO()"
   ]
  },
  {
   "cell_type": "code",
   "execution_count": 236,
   "metadata": {
    "ExecuteTime": {
     "end_time": "2020-03-23T16:55:54.914227Z",
     "start_time": "2020-03-23T16:55:54.890721Z"
    }
   },
   "outputs": [],
   "source": []
  },
  {
   "cell_type": "code",
   "execution_count": null,
   "metadata": {},
   "outputs": [],
   "source": []
  },
  {
   "cell_type": "code",
   "execution_count": 445,
   "metadata": {
    "ExecuteTime": {
     "end_time": "2020-03-24T13:29:36.684476Z",
     "start_time": "2020-03-24T13:29:36.647075Z"
    }
   },
   "outputs": [],
   "source": [
    "def calculate_productionScaling(f):\n",
    "    '''\n",
    "    updates the production scaling [0:1] of factory f. \n",
    "    Pass the actual factory object as f. \n",
    "    It needs to have its inputs and output set.\n",
    "    '''\n",
    "    outputSpeed = f.outputDestination[2] # this gets the output speed of the factory\n",
    "    print('At maximum capacity {} produces {:.3f} {} per second'.format(f.objID,list(f.output_max.values())[0],list(f.output_max.keys())[0]))\n",
    "    print('{} has a maximal transfer of {:.3f} {} per second to {}'.format(f.objID,outputSpeed,list(f.output_max.keys())[0],f.outputDestination[1])) \n",
    "    print('----')\n",
    "    # This sets the production scaling to respect the speed by which we can remove items from the factory\n",
    "    # It also checks what quantity of material is requested and adjusts the speed to this as well\n",
    "    f.productionScaling = min(1,f.productionScaling,float(outputSpeed)/list(f.get_output_adjusted().values())[0]) \n",
    "    for material in f.input_adjusted.keys(): # what the requested number of item/s is\n",
    "        item_s_requested = f.input_adjusted[material] # note that we need to do this, instead of looping over f.input_items() since we are updating f inside the loop\n",
    "        print('{} requests {:.3f} {} at a production scaling of {:.3f}'.format(f.objID,item_s_requested,material,f.productionScaling))\n",
    "        input_i = 0 # material provided by all input sources that carries the material in question\n",
    "        Input_relScale = {}\n",
    "        input_rate_dict = {}\n",
    "        availability_rate_dict = {}\n",
    "        inputObjs = np.array(f.inputList)[:,0]\n",
    "        for input_obj,input_name,input_TopSpeed in f.inputList: # iterate over all input objects\n",
    "            input_rate = 0 #start by assuming that the source does not provide the material\n",
    "            item_s_available = 0\n",
    "            if input_obj.objectType=='Factory': # check what type the input is. This, sort of unfortunately, currently dictates what function names must be used \n",
    "                if material in input_obj.get_output_adjusted(): # make sure that the requested material is indeed at this location\n",
    "                    item_s_available = input_obj.get_output_adjusted()[material]\n",
    "            elif input_obj.objectType=='Belt':\n",
    "                if material in input_obj.get_content():                    \n",
    "                    item_s_available = input_obj.get_content()[material]\n",
    "            elif input_obj.objectType=='Miner':\n",
    "                if material in input_obj.get_content():\n",
    "                    item_s_available = input_obj.get_output()[material]\n",
    "            if item_s_available:\n",
    "                input_rate = min(item_s_requested,item_s_available,input_TopSpeed) #find the bottleneck amongst requested item/s, available item/s or transfer speed as set by insterter\n",
    "                print('from {} we have maximal transfer of {:.3f} {} per second to {}'.format(input_name,input_rate,material,f.objID))\n",
    "            else:\n",
    "                input_rate = 0\n",
    "            input_i += input_rate # if the input source provides the requested material, add it to the total rate                \n",
    "            input_rate_dict[input_obj] = input_rate # save this value in dict to be used to caluclate relative rates\n",
    "            availability_rate_dict[input_obj] = item_s_available\n",
    "            \n",
    "        for input_obj in inputObjs:\n",
    "            input_rate = input_rate_dict[input_obj]\n",
    "            item_s_available = availability_rate_dict[input_obj]\n",
    "            Input_relScale[input_obj] = input_rate/input_i # how much of the total available number of this material does this particular source correspond to\n",
    "            if input_obj.objectType=='Factory':\n",
    "                if item_s_available>0:\n",
    "                    input_obj.productionScaling = min(input_obj.productionScaling,Input_relScale[input_obj]*item_s_requested/item_s_available)\n",
    "        \n",
    "        print('There is {:.3f} {} per second a priori available out of {:.3f} requested'.format(input_i,material,item_s_requested))\n",
    "        scaling = float(input_i)/float(f.input_max[material])        \n",
    "        \n",
    "        if scaling<f.productionScaling:\n",
    "            print('New production scaling set to {:.3f} due to bottleneck in delivery of {}'.format(scaling,material))\n",
    "            f.add_bottleneck(material)\n",
    "            f.productionScaling = scaling\n",
    "            adjust_materialRequests(f)\n",
    "        \n",
    "    print('----')\n",
    "    print('production scaling for {} is {:.3f}'.format(f.objID,f.productionScaling))\n",
    "    \n",
    "def adjust_materialRequests(f):\n",
    "    input_adjusted = {material:item_s_requested*f.productionScaling for material,item_s_requested in f.input_max.items()}\n",
    "    f.input_adjusted = input_adjusted\n",
    "    print('input is adjusted to a production scaling of {:.3f}, to\\n{}'.format(f.productionScaling,input_adjusted))\n",
    "    \n"
   ]
  },
  {
   "cell_type": "code",
   "execution_count": 446,
   "metadata": {
    "ExecuteTime": {
     "end_time": "2020-03-24T13:29:37.413639Z",
     "start_time": "2020-03-24T13:29:37.390822Z"
    }
   },
   "outputs": [],
   "source": [
    "for f in fList:\n",
    "    f.reset_scales()"
   ]
  },
  {
   "cell_type": "code",
   "execution_count": 447,
   "metadata": {
    "ExecuteTime": {
     "end_time": "2020-03-24T13:29:37.778540Z",
     "start_time": "2020-03-24T13:29:37.750887Z"
    }
   },
   "outputs": [
    {
     "name": "stdout",
     "output_type": "stream",
     "text": [
      "At maximum capacity f_greenChip produces 1.000 green chip per second\n",
      "f_greenChip has a maximal transfer of 1.200 green chip per second to b3\n",
      "----\n",
      "f_greenChip requests 3.000 copper cable at a production scaling of 1.000\n",
      "from f_copperCable we have maximal transfer of 1.200 copper cable per second to f_greenChip\n",
      "from f_copperCable2 we have maximal transfer of 1.200 copper cable per second to f_greenChip\n",
      "from f_copperCable3 we have maximal transfer of 1.200 copper cable per second to f_greenChip\n",
      "There is 3.600 copper cable per second a priori available out of 3.000 requested\n",
      "f_greenChip requests 1.000 iron at a production scaling of 1.000\n",
      "from b2 we have maximal transfer of 1.000 iron per second to f_greenChip\n",
      "There is 1.000 iron per second a priori available out of 1.000 requested\n",
      "----\n",
      "production scaling for f_greenChip is 1.000\n",
      "===========\n",
      "At maximum capacity f_copperCable produces 2.000 copper cable per second\n",
      "f_copperCable has a maximal transfer of 1.200 copper cable per second to f_greenChip\n",
      "----\n",
      "f_copperCable requests 1.000 copper at a production scaling of 0.500\n",
      "from b2 we have maximal transfer of 1.000 copper per second to f_copperCable\n",
      "There is 1.000 copper per second a priori available out of 1.000 requested\n",
      "----\n",
      "production scaling for f_copperCable is 0.500\n",
      "===========\n",
      "At maximum capacity f_copperCable2 produces 2.000 copper cable per second\n",
      "f_copperCable2 has a maximal transfer of 1.200 copper cable per second to f_greenChip\n",
      "----\n",
      "f_copperCable2 requests 1.000 copper at a production scaling of 0.500\n",
      "from b2 we have maximal transfer of 1.000 copper per second to f_copperCable2\n",
      "There is 1.000 copper per second a priori available out of 1.000 requested\n",
      "----\n",
      "production scaling for f_copperCable2 is 0.500\n",
      "===========\n",
      "At maximum capacity f_copperCable3 produces 2.000 copper cable per second\n",
      "f_copperCable3 has a maximal transfer of 1.200 copper cable per second to f_greenChip\n",
      "----\n",
      "f_copperCable3 requests 1.000 copper at a production scaling of 0.500\n",
      "from b2 we have maximal transfer of 1.000 copper per second to f_copperCable3\n",
      "There is 1.000 copper per second a priori available out of 1.000 requested\n",
      "----\n",
      "production scaling for f_copperCable3 is 0.500\n",
      "===========\n"
     ]
    }
   ],
   "source": [
    "for f in fList:\n",
    "    calculate_productionScaling(f)\n",
    "    print('===========')\n",
    "# print('\\nagain:\\n')\n",
    "# for f in fList:\n",
    "#     calculate_productionScaling(f)\n",
    "#     print('===========')"
   ]
  },
  {
   "cell_type": "code",
   "execution_count": 441,
   "metadata": {
    "ExecuteTime": {
     "end_time": "2020-03-24T13:24:56.111509Z",
     "start_time": "2020-03-24T13:24:56.087316Z"
    }
   },
   "outputs": [
    {
     "data": {
      "text/plain": [
       "2.592"
      ]
     },
     "execution_count": 441,
     "metadata": {},
     "output_type": "execute_result"
    }
   ],
   "source": [
    "0.72*3*1.2"
   ]
  },
  {
   "cell_type": "code",
   "execution_count": null,
   "metadata": {},
   "outputs": [],
   "source": []
  },
  {
   "cell_type": "code",
   "execution_count": 358,
   "metadata": {
    "ExecuteTime": {
     "end_time": "2020-03-24T10:14:59.557629Z",
     "start_time": "2020-03-24T10:14:59.530967Z"
    }
   },
   "outputs": [],
   "source": [
    "f = fList[0]"
   ]
  },
  {
   "cell_type": "code",
   "execution_count": 359,
   "metadata": {
    "ExecuteTime": {
     "end_time": "2020-03-24T10:15:03.222300Z",
     "start_time": "2020-03-24T10:15:03.194537Z"
    }
   },
   "outputs": [
    {
     "data": {
      "text/plain": [
       "[(<FactoryCalculator.Entities2.Factory at 0x121868c18>, 'f_copperCable', 1.2),\n",
       " (<FactoryCalculator.Entities2.Factory at 0x120c13080>, 'f_copperCable2', 1.2),\n",
       " (<FactoryCalculator.Entities2.Belt at 0x121868c88>, 'b2', 1.2)]"
      ]
     },
     "execution_count": 359,
     "metadata": {},
     "output_type": "execute_result"
    }
   ],
   "source": [
    "for input_obj,input_name,input_TopSpeed in f.inputList: # iterate over all input objects\n",
    "    "
   ]
  },
  {
   "cell_type": "code",
   "execution_count": 365,
   "metadata": {
    "ExecuteTime": {
     "end_time": "2020-03-24T10:19:15.755271Z",
     "start_time": "2020-03-24T10:19:15.724052Z"
    }
   },
   "outputs": [
    {
     "data": {
      "text/plain": [
       "array([<FactoryCalculator.Entities2.Factory object at 0x121868c18>,\n",
       "       <FactoryCalculator.Entities2.Factory object at 0x120c13080>,\n",
       "       <FactoryCalculator.Entities2.Belt object at 0x121868c88>],\n",
       "      dtype=object)"
      ]
     },
     "execution_count": 365,
     "metadata": {},
     "output_type": "execute_result"
    }
   ],
   "source": [
    "inputObjs = np.array(f.inputList)[:,0]"
   ]
  },
  {
   "cell_type": "code",
   "execution_count": 366,
   "metadata": {
    "ExecuteTime": {
     "end_time": "2020-03-24T12:37:25.666367Z",
     "start_time": "2020-03-24T12:37:25.309580Z"
    }
   },
   "outputs": [],
   "source": [
    "def unload_materials(f):\n",
    "    '''\n",
    "\n",
    "    Pass the actual factory object as f. \n",
    "    It needs to have its inputs and output set.\n",
    "    Needs to have run calculate_productionScaling() already to a point where equilibrium is reached for all involved factories\n",
    "    '''\n",
    "    for material in f.input_adjusted.keys(): # what the requested number of item/s is for each material requested\n",
    "        item_s_requested = f.input_adjusted[material] \n",
    "        print('{} requests {:.3f} {} at a production scaling of {:.3f}'.format(f.objID,item_s_requested,material,f.productionScaling))\n",
    "        inputObjs = np.array(f.inputList)[:,0]\n",
    "        Input_relScale = {}\n",
    "        for input_obj,input_name,input_TopSpeed in f.inputList: # iterate over all input objects\n",
    "            item_s_available = 0\n",
    "            if input_obj.objectType=='Factory': # check what type the input is. This, sort of unfortunately, currently dictates what function names must be used \n",
    "                if material in input_obj.get_output_adjusted(): # make sure that the requested material is indeed at this location\n",
    "                    item_s_available = input_obj.get_output_adjusted()[material]\n",
    "            elif input_obj.objectType=='Belt':\n",
    "                if material in input_obj.get_content():\n",
    "                    item_s_available = input_obj.get_content()[material]\n",
    "            elif input_obj.objectType=='Miner':\n",
    "                if material in input_obj.get_content():\n",
    "                    item_s_available = input_obj.get_output()[material]\n",
    "        # This is how much is to be unloaded from each input_object\n",
    "        \n",
    "            Input_relScale[input_obj] = item_s_available/item_s_requested\n",
    "        \n",
    "        for input_obj in inputObjs:\n",
    "            \n",
    "# def produce(fList):\n",
    "#     for f in fList:\n",
    "#         for input_obj in np.array(f.inputList)[:,0]:\n",
    "#             if "
   ]
  },
  {
   "cell_type": "code",
   "execution_count": 378,
   "metadata": {
    "ExecuteTime": {
     "end_time": "2020-03-24T12:48:51.732150Z",
     "start_time": "2020-03-24T12:48:51.707264Z"
    }
   },
   "outputs": [
    {
     "data": {
      "text/plain": [
       "{'iron': 1.0, 'copper': 14.0}"
      ]
     },
     "execution_count": 378,
     "metadata": {},
     "output_type": "execute_result"
    }
   ],
   "source": [
    "input_obj.get_content()"
   ]
  },
  {
   "cell_type": "code",
   "execution_count": null,
   "metadata": {},
   "outputs": [],
   "source": []
  },
  {
   "cell_type": "code",
   "execution_count": 367,
   "metadata": {
    "ExecuteTime": {
     "end_time": "2020-03-24T12:40:58.790707Z",
     "start_time": "2020-03-24T12:40:58.766883Z"
    }
   },
   "outputs": [],
   "source": [
    "f = fList[0]"
   ]
  },
  {
   "cell_type": "code",
   "execution_count": 371,
   "metadata": {
    "ExecuteTime": {
     "end_time": "2020-03-24T12:41:33.724756Z",
     "start_time": "2020-03-24T12:41:33.700786Z"
    }
   },
   "outputs": [],
   "source": [
    "i1 = f.inputList[0][0]\n",
    "i3 = f.inputList[2][0]"
   ]
  },
  {
   "cell_type": "code",
   "execution_count": 370,
   "metadata": {
    "ExecuteTime": {
     "end_time": "2020-03-24T12:41:24.408389Z",
     "start_time": "2020-03-24T12:41:24.381789Z"
    }
   },
   "outputs": [
    {
     "data": {
      "text/plain": [
       "{'copper cable': 1.2}"
      ]
     },
     "execution_count": 370,
     "metadata": {},
     "output_type": "execute_result"
    }
   ],
   "source": [
    "i1.get_output_adjusted()"
   ]
  },
  {
   "cell_type": "code",
   "execution_count": 373,
   "metadata": {
    "ExecuteTime": {
     "end_time": "2020-03-24T12:41:47.822299Z",
     "start_time": "2020-03-24T12:41:47.797567Z"
    }
   },
   "outputs": [
    {
     "data": {
      "text/plain": [
       "{'iron': 1.0, 'copper': 14.0}"
      ]
     },
     "execution_count": 373,
     "metadata": {},
     "output_type": "execute_result"
    }
   ],
   "source": [
    "i3.get_content()"
   ]
  },
  {
   "cell_type": "code",
   "execution_count": 376,
   "metadata": {
    "ExecuteTime": {
     "end_time": "2020-03-24T12:44:16.838040Z",
     "start_time": "2020-03-24T12:44:16.813601Z"
    }
   },
   "outputs": [],
   "source": [
    "class MetaFactory:\n",
    "    def __init__(self,fList,objID=None):\n",
    "        self.objectType = self.__class__.__name__\n",
    "        self.objID = objID\n",
    "        self.fList = fList\n",
    "        \n",
    "        self.inputs = [] # List of belts,miners,etc\n",
    "        self.outputs = None # {material:item_s} this must no go into a chest\n",
    "        \n",
    "        for f in fList:\n",
    "            for input_obj in np.array(f.inputList)[:,0]:\n",
    "                if input_obj"
   ]
  },
  {
   "cell_type": "code",
   "execution_count": 377,
   "metadata": {
    "ExecuteTime": {
     "end_time": "2020-03-24T12:47:09.555385Z",
     "start_time": "2020-03-24T12:47:09.125729Z"
    }
   },
   "outputs": [
    {
     "data": {
      "text/plain": [
       "[(<FactoryCalculator.Entities2.Factory at 0x121868c18>, 'f_copperCable', 1.2),\n",
       " (<FactoryCalculator.Entities2.Factory at 0x120c13080>, 'f_copperCable2', 1.2),\n",
       " (<FactoryCalculator.Entities2.Belt at 0x121868c88>, 'b2', 1.2)]"
      ]
     },
     "execution_count": 377,
     "metadata": {},
     "output_type": "execute_result"
    }
   ],
   "source": [
    "f.inputList"
   ]
  },
  {
   "cell_type": "code",
   "execution_count": 342,
   "metadata": {
    "ExecuteTime": {
     "end_time": "2020-03-24T10:12:20.935076Z",
     "start_time": "2020-03-24T10:12:20.905418Z"
    }
   },
   "outputs": [
    {
     "data": {
      "text/plain": [
       "{'iron': 1.0, 'copper': 14.0}"
      ]
     },
     "execution_count": 342,
     "metadata": {},
     "output_type": "execute_result"
    }
   ],
   "source": [
    "b2.get_content()"
   ]
  },
  {
   "cell_type": "code",
   "execution_count": 343,
   "metadata": {
    "ExecuteTime": {
     "end_time": "2020-03-24T10:12:25.235592Z",
     "start_time": "2020-03-24T10:12:25.209657Z"
    }
   },
   "outputs": [
    {
     "data": {
      "text/plain": [
       "{}"
      ]
     },
     "execution_count": 343,
     "metadata": {},
     "output_type": "execute_result"
    }
   ],
   "source": [
    "b3.get_content()"
   ]
  },
  {
   "cell_type": "code",
   "execution_count": 344,
   "metadata": {
    "ExecuteTime": {
     "end_time": "2020-03-24T10:12:35.249971Z",
     "start_time": "2020-03-24T10:12:35.221571Z"
    }
   },
   "outputs": [
    {
     "data": {
      "text/plain": [
       "{'green chip': 0.7999999999999999}"
      ]
     },
     "execution_count": 344,
     "metadata": {},
     "output_type": "execute_result"
    }
   ],
   "source": [
    "f_greenChip.get_output_adjusted()"
   ]
  },
  {
   "cell_type": "code",
   "execution_count": null,
   "metadata": {},
   "outputs": [],
   "source": []
  },
  {
   "cell_type": "code",
   "execution_count": 331,
   "metadata": {
    "ExecuteTime": {
     "end_time": "2020-03-24T10:07:14.198941Z",
     "start_time": "2020-03-24T10:07:14.173946Z"
    }
   },
   "outputs": [
    {
     "name": "stdout",
     "output_type": "stream",
     "text": [
      "At maximum capacity f_greenChip produces 1.000 green chip per second\n",
      "f_greenChip has a maximal transfer of 1.200 green chip per second to b3\n",
      "----\n",
      "f_greenChip requests 3.000 copper cable at a production scaling of 1.000\n",
      "from f_copperCable we have maximal transfer of 1.200 copper cable per second to f_greenChip\n",
      "from f_copperCable2 we have maximal transfer of 1.200 copper cable per second to f_greenChip\n",
      "There is 2.400 copper cable per second a priori available out of 3.000 requested\n",
      "New production scaling set to 0.800 due to bottleneck in delivery of copper cable\n",
      "input is adjusted to a production scaling of 0.800, to\n",
      "{'copper cable': 2.4, 'iron': 0.7999999999999999}\n",
      "f_greenChip requests 0.800 iron at a production scaling of 0.800\n",
      "from b2 we have maximal transfer of 0.800 iron per second to f_greenChip\n",
      "There is 0.800 iron per second a priori available out of 0.800 requested\n",
      "----\n",
      "production scaling is 0.800\n",
      "input is adjusted to a production scaling of 0.800, to\n",
      "{'copper cable': 2.4, 'iron': 0.7999999999999999}\n"
     ]
    }
   ],
   "source": [
    "f = fList[0]\n",
    "calculate_productionScaling(f)\n",
    "adjust_materialRequests(f)"
   ]
  },
  {
   "cell_type": "code",
   "execution_count": 332,
   "metadata": {
    "ExecuteTime": {
     "end_time": "2020-03-24T10:07:45.110541Z",
     "start_time": "2020-03-24T10:07:45.083732Z"
    }
   },
   "outputs": [
    {
     "name": "stdout",
     "output_type": "stream",
     "text": [
      "At maximum capacity f_copperCable produces 2.000 copper cable per second\n",
      "f_copperCable has a maximal transfer of 1.200 copper cable per second to f_greenChip\n",
      "----\n",
      "f_copperCable requests 1.000 copper at a production scaling of 0.600\n",
      "from b2 we have maximal transfer of 1.000 copper per second to f_copperCable\n",
      "There is 1.000 copper per second a priori available out of 1.000 requested\n",
      "----\n",
      "production scaling is 0.600\n",
      "input is adjusted to a production scaling of 0.600, to\n",
      "{'copper': 0.6}\n",
      "--------\n",
      "At maximum capacity f_copperCable2 produces 2.000 copper cable per second\n",
      "f_copperCable2 has a maximal transfer of 1.200 copper cable per second to f_greenChip\n",
      "----\n",
      "f_copperCable2 requests 1.000 copper at a production scaling of 0.600\n",
      "from b2 we have maximal transfer of 1.000 copper per second to f_copperCable2\n",
      "There is 1.000 copper per second a priori available out of 1.000 requested\n",
      "----\n",
      "production scaling is 0.600\n",
      "input is adjusted to a production scaling of 0.600, to\n",
      "{'copper': 0.6}\n"
     ]
    }
   ],
   "source": [
    "f = fList[1]\n",
    "calculate_productionScaling(f)\n",
    "adjust_materialRequests(f)\n",
    "print('--------')\n",
    "f = fList[2]\n",
    "calculate_productionScaling(f)\n",
    "adjust_materialRequests(f)"
   ]
  },
  {
   "cell_type": "code",
   "execution_count": null,
   "metadata": {},
   "outputs": [],
   "source": []
  },
  {
   "cell_type": "markdown",
   "metadata": {},
   "source": [
    "# To do\n",
    "- add that it draws from simultaneously multiple sources in proportion to their available output\n",
    "- make more complicated test case"
   ]
  },
  {
   "cell_type": "code",
   "execution_count": null,
   "metadata": {},
   "outputs": [],
   "source": []
  },
  {
   "cell_type": "code",
   "execution_count": null,
   "metadata": {},
   "outputs": [],
   "source": []
  },
  {
   "cell_type": "code",
   "execution_count": null,
   "metadata": {},
   "outputs": [],
   "source": []
  },
  {
   "cell_type": "code",
   "execution_count": null,
   "metadata": {},
   "outputs": [],
   "source": []
  },
  {
   "cell_type": "code",
   "execution_count": null,
   "metadata": {},
   "outputs": [],
   "source": []
  }
 ],
 "metadata": {
  "file_extension": ".py",
  "kernelspec": {
   "display_name": "Python 3",
   "language": "python",
   "name": "python3"
  },
  "language_info": {
   "codemirror_mode": {
    "name": "ipython",
    "version": 3
   },
   "file_extension": ".py",
   "mimetype": "text/x-python",
   "name": "python",
   "nbconvert_exporter": "python",
   "pygments_lexer": "ipython3",
   "version": "3.6.7"
  },
  "mimetype": "text/x-python",
  "name": "python",
  "npconvert_exporter": "python",
  "pygments_lexer": "ipython3",
  "toc": {
   "base_numbering": 1,
   "nav_menu": {},
   "number_sections": true,
   "sideBar": true,
   "skip_h1_title": false,
   "title_cell": "Table of Contents",
   "title_sidebar": "Contents",
   "toc_cell": false,
   "toc_position": {},
   "toc_section_display": true,
   "toc_window_display": false
  },
  "version": 3
 },
 "nbformat": 4,
 "nbformat_minor": 2
}
