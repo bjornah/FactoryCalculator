{
 "cells": [
  {
   "cell_type": "code",
   "execution_count": null,
   "metadata": {},
   "outputs": [],
   "source": [
    "%load_ext autoreload\n",
    "%autoreload 2"
   ]
  },
  {
   "cell_type": "code",
   "execution_count": 564,
   "metadata": {
    "ExecuteTime": {
     "end_time": "2020-03-24T15:09:15.400757Z",
     "start_time": "2020-03-24T15:09:15.316365Z"
    },
    "run_control": {
     "marked": false
    }
   },
   "outputs": [],
   "source": [
    "from IPython.core.debugger import set_trace\n",
    "import numpy as np\n",
    "import importlib\n",
    "from FactoryCalculator.Entities2 import Belt,Miner,Module,Factory,Chest,Recipe\n",
    "from FactoryCalculator.Utils import add_dicts,convertRecipe\n",
    "from FactoryCalculator import Data\n",
    "from FactoryCalculator.Functions import calculate_productionScaling,adjust_materialRequests,unload_materials,overview\n",
    "from FactoryCalculator.MetaEntities import MinerList"
   ]
  },
  {
   "cell_type": "code",
   "execution_count": 565,
   "metadata": {
    "ExecuteTime": {
     "end_time": "2020-03-24T15:09:17.790693Z",
     "start_time": "2020-03-24T15:09:17.755904Z"
    }
   },
   "outputs": [
    {
     "name": "stdout",
     "output_type": "stream",
     "text": [
      "{'iron': 1.0, 'copper': 14.0}\n",
      "No fuel present!\n",
      "No fuel present!\n",
      "No fuel present!\n",
      "No fuel present!\n"
     ]
    }
   ],
   "source": [
    "#### setup some small miners\n",
    "\n",
    "miner_iron_1 = Miner('electric',material='iron',lvl=1)\n",
    "miner_iron_2 = Miner('electric',material='iron',lvl=1)\n",
    "\n",
    "miners_iron1 = [miner_iron_1,miner_iron_2]\n",
    "miner_iron_list_1 = MinerList(miners_iron1)\n",
    "iron_ouput1 = miner_iron_list_1.get_output()\n",
    "\n",
    "\n",
    "#### setup an array of 30 copper miners\n",
    "\n",
    "im = 30\n",
    "miners_copper1 = [Miner('electric',material='copper',lvl=1) for i in range(im)]\n",
    "miner_copper_list_1 = MinerList(miners_copper1)\n",
    "copper_ouput1 = miner_copper_list_1.get_output()\n",
    "\n",
    "#### pipe output of iron and then copper onto yellow belt. Not all copper fits\n",
    "\n",
    "b2 = Belt('yellow',objID='b2')\n",
    "\n",
    "b2.load(iron_ouput1)\n",
    "\n",
    "b2.load(copper_ouput1)\n",
    "\n",
    "print(b2.get_content())\n",
    "\n",
    "#### use two inserters, one for iron and one for copper, to transfer material.\n",
    "# Iron -> green chip\n",
    "# \n",
    "# copper -> copper cables -> green chip \n",
    "# \n",
    "# green chip -> yellow belt\n",
    "\n",
    "# create everything backwards, starting with the end product and where it ends up\n",
    "b3 = Belt('yellow',objID='b3')\n",
    "\n",
    "recipe_gc = Recipe()\n",
    "recipe_gc.create_recipe(name = 'green chip',materials_in = {'copper cable':3,'iron':1},wait = 0.5,materials_out = {'green chip':1})\n",
    "\n",
    "recipe_cc = Recipe()\n",
    "recipe_cc.create_recipe(name = 'copper cables',materials_in = {'copper':1},wait = 0.5,materials_out = {'copper cable':2})\n",
    "\n",
    "f_greenChip = Factory(recipe=recipe_gc,prod_speed=0.5,FactoryType='factory1',objID='f_greenChip',fuel=None)\n",
    "f_copperCable = Factory(recipe=recipe_cc,prod_speed=0.5,FactoryType='factory1',objID='f_copperCable',fuel=None)\n",
    "f_copperCable2 = Factory(recipe=recipe_cc,prod_speed=0.5,FactoryType='factory1',objID='f_copperCable2',fuel=None)\n",
    "f_copperCable3 = Factory(recipe=recipe_cc,prod_speed=0.5,FactoryType='factory1',objID='f_copperCable3',fuel=None)\n",
    "\n",
    "f_greenChip.clear_IO()\n",
    "f_copperCable.clear_IO()\n",
    "\n",
    "inserter = 'regular'\n",
    "inserterLvl = 1\n",
    "inserterMode='item_s_chest_to_chest'\n",
    "Inserter_speed = Data.Inserters[inserter][inserterLvl][inserterMode] # gives item_s\n",
    "\n",
    "f_greenChip.addInput(f_copperCable,Inserter_speed)\n",
    "f_greenChip.addInput(f_copperCable2,Inserter_speed)\n",
    "f_greenChip.addInput(f_copperCable3,Inserter_speed)\n",
    "f_greenChip.addInput(b2,Inserter_speed)\n",
    "f_greenChip.addOutput(b3,Inserter_speed)\n",
    "\n",
    "f_copperCable.addInput(b2,Inserter_speed)\n",
    "f_copperCable.addOutput(f_greenChip,Inserter_speed)\n",
    "\n",
    "f_copperCable2.addInput(b2,Inserter_speed)\n",
    "f_copperCable2.addOutput(f_greenChip,Inserter_speed)\n",
    "\n",
    "f_copperCable3.addInput(b2,Inserter_speed)\n",
    "f_copperCable3.addOutput(f_greenChip,Inserter_speed)\n",
    "\n",
    "fList = [f_greenChip,f_copperCable,f_copperCable2,f_copperCable3]"
   ]
  },
  {
   "cell_type": "code",
   "execution_count": 549,
   "metadata": {
    "ExecuteTime": {
     "end_time": "2020-03-24T14:45:13.441121Z",
     "start_time": "2020-03-24T14:45:13.418458Z"
    }
   },
   "outputs": [],
   "source": [
    "f_greenChip.clear_IO()\n",
    "f_copperCable.clear_IO()"
   ]
  },
  {
   "cell_type": "code",
   "execution_count": 566,
   "metadata": {
    "ExecuteTime": {
     "end_time": "2020-03-24T15:09:19.480155Z",
     "start_time": "2020-03-24T15:09:19.443151Z"
    }
   },
   "outputs": [
    {
     "name": "stdout",
     "output_type": "stream",
     "text": [
      "At maximum capacity f_greenChip produces 1.000 green chip per second\n",
      "f_greenChip has a maximal transfer of 1.200 green chip per second to b3\n",
      "----\n",
      "f_greenChip requests 3.000 copper cable at a production scaling of 1.000\n",
      "from f_copperCable we have maximal transfer of 1.200 copper cable per second to f_greenChip\n",
      "from f_copperCable2 we have maximal transfer of 1.200 copper cable per second to f_greenChip\n",
      "from f_copperCable3 we have maximal transfer of 1.200 copper cable per second to f_greenChip\n",
      "There is 3.600 copper cable per second a priori available out of 3.000 requested\n",
      "input is adjusted to a production scaling of 1.000, to\n",
      "{'copper cable': 3.0, 'iron': 1.0}\n",
      "f_greenChip requests 1.000 iron at a production scaling of 1.000\n",
      "from b2 we have maximal transfer of 1.000 iron per second to f_greenChip\n",
      "There is 1.000 iron per second a priori available out of 1.000 requested\n",
      "input is adjusted to a production scaling of 1.000, to\n",
      "{'copper cable': 3.0, 'iron': 1.0}\n",
      "----\n",
      "production scaling for f_greenChip is 1.000\n",
      "===========\n",
      "At maximum capacity f_copperCable produces 2.000 copper cable per second\n",
      "f_copperCable has a maximal transfer of 1.200 copper cable per second to f_greenChip\n",
      "----\n",
      "f_copperCable requests 1.000 copper at a production scaling of 0.500\n",
      "from b2 we have maximal transfer of 1.000 copper per second to f_copperCable\n",
      "There is 1.000 copper per second a priori available out of 1.000 requested\n",
      "input is adjusted to a production scaling of 0.500, to\n",
      "{'copper': 0.5}\n",
      "----\n",
      "production scaling for f_copperCable is 0.500\n",
      "===========\n",
      "At maximum capacity f_copperCable2 produces 2.000 copper cable per second\n",
      "f_copperCable2 has a maximal transfer of 1.200 copper cable per second to f_greenChip\n",
      "----\n",
      "f_copperCable2 requests 1.000 copper at a production scaling of 0.500\n",
      "from b2 we have maximal transfer of 1.000 copper per second to f_copperCable2\n",
      "There is 1.000 copper per second a priori available out of 1.000 requested\n",
      "input is adjusted to a production scaling of 0.500, to\n",
      "{'copper': 0.5}\n",
      "----\n",
      "production scaling for f_copperCable2 is 0.500\n",
      "===========\n",
      "At maximum capacity f_copperCable3 produces 2.000 copper cable per second\n",
      "f_copperCable3 has a maximal transfer of 1.200 copper cable per second to f_greenChip\n",
      "----\n",
      "f_copperCable3 requests 1.000 copper at a production scaling of 0.500\n",
      "from b2 we have maximal transfer of 1.000 copper per second to f_copperCable3\n",
      "There is 1.000 copper per second a priori available out of 1.000 requested\n",
      "input is adjusted to a production scaling of 0.500, to\n",
      "{'copper': 0.5}\n",
      "----\n",
      "production scaling for f_copperCable3 is 0.500\n",
      "===========\n",
      "0000000000000000000\n",
      "At maximum capacity f_greenChip produces 1.000 green chip per second\n",
      "f_greenChip has a maximal transfer of 1.200 green chip per second to b3\n",
      "----\n",
      "f_greenChip requests 3.000 copper cable at a production scaling of 1.000\n",
      "from f_copperCable we have maximal transfer of 1.000 copper cable per second to f_greenChip\n",
      "from f_copperCable2 we have maximal transfer of 1.000 copper cable per second to f_greenChip\n",
      "from f_copperCable3 we have maximal transfer of 1.000 copper cable per second to f_greenChip\n",
      "There is 3.000 copper cable per second a priori available out of 3.000 requested\n",
      "input is adjusted to a production scaling of 1.000, to\n",
      "{'copper cable': 3.0, 'iron': 1.0}\n",
      "f_greenChip requests 1.000 iron at a production scaling of 1.000\n",
      "from b2 we have maximal transfer of 1.000 iron per second to f_greenChip\n",
      "There is 1.000 iron per second a priori available out of 1.000 requested\n",
      "input is adjusted to a production scaling of 1.000, to\n",
      "{'copper cable': 3.0, 'iron': 1.0}\n",
      "----\n",
      "production scaling for f_greenChip is 1.000\n",
      "===========\n",
      "At maximum capacity f_copperCable produces 2.000 copper cable per second\n",
      "f_copperCable has a maximal transfer of 1.200 copper cable per second to f_greenChip\n",
      "----\n",
      "f_copperCable requests 0.500 copper at a production scaling of 0.500\n",
      "from b2 we have maximal transfer of 0.500 copper per second to f_copperCable\n",
      "There is 0.500 copper per second a priori available out of 0.500 requested\n",
      "input is adjusted to a production scaling of 0.500, to\n",
      "{'copper': 0.5}\n",
      "----\n",
      "production scaling for f_copperCable is 0.500\n",
      "===========\n",
      "At maximum capacity f_copperCable2 produces 2.000 copper cable per second\n",
      "f_copperCable2 has a maximal transfer of 1.200 copper cable per second to f_greenChip\n",
      "----\n",
      "f_copperCable2 requests 0.500 copper at a production scaling of 0.500\n",
      "from b2 we have maximal transfer of 0.500 copper per second to f_copperCable2\n",
      "There is 0.500 copper per second a priori available out of 0.500 requested\n",
      "input is adjusted to a production scaling of 0.500, to\n",
      "{'copper': 0.5}\n",
      "----\n",
      "production scaling for f_copperCable2 is 0.500\n",
      "===========\n",
      "At maximum capacity f_copperCable3 produces 2.000 copper cable per second\n",
      "f_copperCable3 has a maximal transfer of 1.200 copper cable per second to f_greenChip\n",
      "----\n",
      "f_copperCable3 requests 0.500 copper at a production scaling of 0.500\n",
      "from b2 we have maximal transfer of 0.500 copper per second to f_copperCable3\n",
      "There is 0.500 copper per second a priori available out of 0.500 requested\n",
      "input is adjusted to a production scaling of 0.500, to\n",
      "{'copper': 0.5}\n",
      "----\n",
      "production scaling for f_copperCable3 is 0.500\n",
      "===========\n",
      "f_greenChip takes 1.0 iron from b2\n",
      "f_copperCable takes 0.5 copper from b2\n",
      "f_copperCable2 takes 0.5 copper from b2\n",
      "f_copperCable3 takes 0.5 copper from b2\n"
     ]
    }
   ],
   "source": [
    "for f in fList:\n",
    "    f.reset_scales()\n",
    "\n",
    "# probably need to perform this once for each level of factories\n",
    "for f in fList:\n",
    "    calculate_productionScaling(f)\n",
    "    print('===========')\n",
    "print('0000000000000000000')\n",
    "for f in fList:\n",
    "    calculate_productionScaling(f)\n",
    "    print('===========')\n",
    "for f in fList:\n",
    "    unload_materials(f)"
   ]
  },
  {
   "cell_type": "code",
   "execution_count": null,
   "metadata": {},
   "outputs": [],
   "source": []
  },
  {
   "cell_type": "code",
   "execution_count": null,
   "metadata": {},
   "outputs": [],
   "source": []
  },
  {
   "cell_type": "code",
   "execution_count": null,
   "metadata": {},
   "outputs": [],
   "source": []
  },
  {
   "cell_type": "code",
   "execution_count": null,
   "metadata": {},
   "outputs": [],
   "source": []
  },
  {
   "cell_type": "code",
   "execution_count": null,
   "metadata": {},
   "outputs": [],
   "source": []
  },
  {
   "cell_type": "code",
   "execution_count": null,
   "metadata": {},
   "outputs": [],
   "source": []
  },
  {
   "cell_type": "markdown",
   "metadata": {},
   "source": [
    "# To do\n",
    "## First\n",
    "- implement proper unit tests\n",
    "- make additional and more complex test cases\n",
    "- clean up printed output when running factories\n",
    "    - implement log files and python logging functionality\n",
    "- test how we can make sure we have called calculate_productionScaling() enough times before calling unload_materials()\n",
    "- create miner-smelter setup (maybe meta entity for this?)\n",
    "\n",
    "----\n",
    "## later \n",
    "- create meta factories\n",
    "- create functions for data scraping for recipes and entity statistics\n",
    "- fix global power information\n",
    "- implement fluids\n",
    "- implement all aspects of modules (beacons can be implemented by simply adding more modules in module list for each factory)\n",
    "\n",
    "----\n",
    "## aaand even later\n",
    "- create solver that can tell you what factories and input you need in order to get certain output, given some inserter level and type of factory etc\n",
    "- fix graphical representation of factory, input and output\n",
    "- make ML to try to go from MetaFactory to suggestion on actual setup in factorio"
   ]
  },
  {
   "cell_type": "code",
   "execution_count": null,
   "metadata": {},
   "outputs": [],
   "source": []
  },
  {
   "cell_type": "markdown",
   "metadata": {},
   "source": [
    "# Thoughts\n",
    "\n",
    "- Initiate all factories\n",
    "- let them make requests of what they need. This creates a tree of requirements of {material:item_s} for each factory, setting a goal of what each factory must produce.\n",
    "\n",
    "for each line of material: all n entities that want material from it gets 1/n of the available material. Starting with the entity that wants the least material this material is given to that entity. The remaining material is then divided to the n-1 entities, giving them 1/(n-1) each. This process continues until the material is out or all entities have all material they need.\n",
    "\n",
    "Note that this assumes that the factories are taking material in parallel instead of serially from e.g. the belt. This is ok for small arrays of factories or where the belt layout respects this assumption or where there is sufficient material at the source to satisfy all entities.\n",
    "\n",
    "For larger factories containing multiple arrays of entities drawing from the same source of materials, note that you need to set them up serially such that factory1, containing two entitites drawing from belt1, is sorted out completely and that their combined draw of resources from belt1 is accounted for before offering the remaining resources on belt1 to factory2.\n",
    "\n",
    "- Create source of material\n",
    "- Create factories and initiate them\n",
    "- Connect factories\n",
    "    - This involves putting other objects in a list. However, these objects come in tuples, together with a speed, which represents the inserter used to transport them. We thus make away with the inserter class. This speed can be retrieved from Data.InserterSpeeds.\n",
    "    "
   ]
  },
  {
   "cell_type": "code",
   "execution_count": null,
   "metadata": {},
   "outputs": [],
   "source": []
  },
  {
   "cell_type": "code",
   "execution_count": null,
   "metadata": {},
   "outputs": [],
   "source": []
  },
  {
   "cell_type": "code",
   "execution_count": null,
   "metadata": {},
   "outputs": [],
   "source": []
  }
 ],
 "metadata": {
  "file_extension": ".py",
  "kernelspec": {
   "display_name": "Python 3",
   "language": "python",
   "name": "python3"
  },
  "language_info": {
   "codemirror_mode": {
    "name": "ipython",
    "version": 3
   },
   "file_extension": ".py",
   "mimetype": "text/x-python",
   "name": "python",
   "nbconvert_exporter": "python",
   "pygments_lexer": "ipython3",
   "version": "3.6.7"
  },
  "mimetype": "text/x-python",
  "name": "python",
  "npconvert_exporter": "python",
  "pygments_lexer": "ipython3",
  "toc": {
   "base_numbering": 1,
   "nav_menu": {},
   "number_sections": true,
   "sideBar": true,
   "skip_h1_title": false,
   "title_cell": "Table of Contents",
   "title_sidebar": "Contents",
   "toc_cell": false,
   "toc_position": {},
   "toc_section_display": true,
   "toc_window_display": false
  },
  "version": 3
 },
 "nbformat": 4,
 "nbformat_minor": 2
}
